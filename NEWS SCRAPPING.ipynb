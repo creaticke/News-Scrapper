{
 "cells": [
  {
   "cell_type": "code",
   "execution_count": 1,
   "metadata": {},
   "outputs": [
    {
     "name": "stdout",
     "output_type": "stream",
     "text": [
      "Populating the interactive namespace from numpy and matplotlib\n"
     ]
    }
   ],
   "source": [
    "%pylab inline\n",
    "import bs4 #this is beautiful soup\n",
    "import re\n",
    "import requests\n",
    "import csv\n",
    "import datetime\n"
   ]
  },
  {
   "cell_type": "code",
   "execution_count": 2,
   "metadata": {},
   "outputs": [
    {
     "ename": "ModuleNotFoundError",
     "evalue": "No module named 'selenium'",
     "output_type": "error",
     "traceback": [
      "\u001b[0;31m---------------------------------------------------------------------------\u001b[0m",
      "\u001b[0;31mModuleNotFoundError\u001b[0m                       Traceback (most recent call last)",
      "\u001b[0;32m<ipython-input-2-481f25354293>\u001b[0m in \u001b[0;36m<module>\u001b[0;34m()\u001b[0m\n\u001b[0;32m----> 1\u001b[0;31m \u001b[0;32mfrom\u001b[0m \u001b[0mselenium\u001b[0m \u001b[0;32mimport\u001b[0m \u001b[0mwebdriver\u001b[0m\u001b[0;34m\u001b[0m\u001b[0m\n\u001b[0m\u001b[1;32m      2\u001b[0m \u001b[0;32mimport\u001b[0m \u001b[0mtime\u001b[0m\u001b[0;34m\u001b[0m\u001b[0m\n\u001b[1;32m      3\u001b[0m \u001b[0;34m\u001b[0m\u001b[0m\n\u001b[1;32m      4\u001b[0m \u001b[0murl\u001b[0m \u001b[0;34m=\u001b[0m \u001b[0;34m\"https://www.thenews.com.pk/latest-stories\"\u001b[0m\u001b[0;34m\u001b[0m\u001b[0m\n\u001b[1;32m      5\u001b[0m \u001b[0mdriver\u001b[0m \u001b[0;34m=\u001b[0m \u001b[0mwebdriver\u001b[0m\u001b[0;34m.\u001b[0m\u001b[0mPhantomJS\u001b[0m\u001b[0;34m(\u001b[0m\u001b[0;34m)\u001b[0m\u001b[0;34m\u001b[0m\u001b[0m\n",
      "\u001b[0;31mModuleNotFoundError\u001b[0m: No module named 'selenium'"
     ]
    }
   ],
   "source": [
    "from selenium import webdriver\n",
    "import time\n",
    "\n",
    "url = \"https://www.thenews.com.pk/latest-stories\"\n",
    "driver = webdriver.PhantomJS()\n",
    "driver.get(url)\n",
    "html = driver.page_source.encode('utf-8')\n",
    "page_num = 0\n",
    "\n",
    "while driver.find_elements_by_css_selector('.search-result-more-txt'):\n",
    "    driver.find_element_by_css_selector('.search-result-more-txt').click()\n",
    "    page_num += 1\n",
    "    print(\"getting page number \"+str(page_num))\n",
    "    time.sleep(1)\n",
    "\n",
    "html = driver.page_source.encode('utf-8')"
   ]
  },
  {
   "cell_type": "code",
   "execution_count": 18,
   "metadata": {},
   "outputs": [
    {
     "name": "stdout",
     "output_type": "stream",
     "text": [
      " Imran rues Indian response to peace talk offer\n",
      " Myanmar 'unwilling' to probe Rohingya abuse, UN must act: rights envoy\n",
      " PM stresses need to 'effectively' defend decision on IMF bailout in media\n",
      " Trump says next meeting with North Korea's Kim being set up\n",
      " North Korea wants Pope to visit, South Korea to tell Vatican\n",
      " Bilawal seeks to become party to ZAB reference\n",
      " Cracks appear within Catalan coalition seeking split from Spain\n",
      " Punjab police reforms chairman Nasir Durrani resigns\n",
      " CJP takes notice of lack of courts, police in tribal districts\n",
      " FIA widens fictitious accounts inquiry\n",
      " ‘Human rights violations’ by Punjab police irk NCHR chief\n",
      " Man jailed for threatening Pakistan with attacks over Czech model’s arrest\n",
      " IMF cuts global growth forecast to 3.7% as risks rise\n",
      " Information minister defends going to IMF for a bailout\n",
      " Pakistan Navy's 'SAIF' participates in joint exercises with Turkish ships\n"
     ]
    }
   ],
   "source": [
    "\n",
    "\n",
    "\n",
    "\n",
    "\n",
    "    \n",
    "def extract_Tribunenews(filename):\n",
    "    \n",
    "    # +++your code here+++\n",
    "    source =requests.get(filename)\n",
    "    \n",
    "    \n",
    "    \n",
    "    soup = bs4.BeautifulSoup(source.text,\"lxml\")\n",
    "    body=soup.body\n",
    "        \n",
    "    data=body.find_all('div',{'class': [re.compile('^span-16 primary')]})\n",
    "\n",
    "    #re.compile('^company')\n",
    "    #s=table.findAll('td')\n",
    "    l1=[]\n",
    "    links = []\n",
    "    title=[]\n",
    "    data2=data[0].find_all('div',{'class': [re.compile('^story cat-0 group-0')]})\n",
    "\n",
    "\n",
    "    for i in range(len(data2)):\n",
    "\n",
    "        a=( data2[i].find('a'))\n",
    "\n",
    "        links.append(a['href'])\n",
    "    #print (links)   \n",
    "\n",
    "    for story in links:\n",
    "        source =requests.get(story)\n",
    "        soup = bs4.BeautifulSoup(source.text,\"lxml\")\n",
    "        body=soup.body\n",
    "        t=( body.find('h1'))\n",
    "        content=body.find_all('div',{'class': [re.compile('^clearfix story-content read-full')]})\n",
    "        full=content[0].find_all('p')\n",
    "        print(t.text)\n",
    "        l1.append('   TITLE   ')\n",
    "        l1.append(t.text)\n",
    "        l1.append('\\n')\n",
    "        for i in range(len(full)):\n",
    "            if (i!=0):\n",
    "                l1.append(full[i].text)\n",
    "                \n",
    "        l1.append('\\n')\n",
    "        l1.append('-')\n",
    "        l1.append('\\n')\n",
    "\n",
    "            #l1.append(content[0].text)\n",
    "    write('filename',l1)\n",
    "\n",
    "\n",
    "data=[]       \n",
    "a=extract_Tribunenews('https://www.tribune.com.pk/latest/')\n",
    "\n"
   ]
  },
  {
   "cell_type": "code",
   "execution_count": 24,
   "metadata": {},
   "outputs": [],
   "source": [
    "\n",
    "def write(filename,data):\n",
    "    now = datetime.date.today()\n",
    "    d='NEWS OF'\n",
    "    date=d+str(now)\n",
    "    \n",
    "    filee = open(date,'a') \n",
    "    for word in data:\n",
    "            filee.write(word)\n",
    "\n",
    "    filee.close()"
   ]
  },
  {
   "cell_type": "code",
   "execution_count": 25,
   "metadata": {},
   "outputs": [
    {
     "name": "stdout",
     "output_type": "stream",
     "text": [
      "['https://www.thenews.com.pk/latest/378754-pakistan-to-sign-ftas-with-various-countries-razzak-dawood', 'https://www.thenews.com.pk/latest/378753-zimbabwe-restrict-south-african-to-160-6-in-first-t20i', 'https://www.thenews.com.pk/latest/378752-junaid-zakaria-cleared-by-police-for-acting-in-self-defence-in-brawl', 'https://www.thenews.com.pk/latest/378751-pak-navy-ship-visits-aksaz-to-participate-in-exercises', 'https://www.thenews.com.pk/latest/378750-taylor-swift-kanye-west-feud-enters-political-arena', 'https://www.thenews.com.pk/latest/378749-pakistan-china-signs-8-mous-worth-100-million-for-investment', 'https://www.thenews.com.pk/latest/378748-south-africa-bat-in-first-t20-international', 'https://www.thenews.com.pk/latest/378747-nasir-durrani-resigns-as-head-of-punjab-police-reforms-commission', 'https://www.thenews.com.pk/latest/378746-un-urges-algeria-to-stop-expelling-migrants-report', 'https://www.thenews.com.pk/latest/378745-pm-urges-bureaucracy-to-improve-performance', 'https://www.thenews.com.pk/latest/378744-protect-women-journalists-from-sexual-harassment-editors-guild-of-india', 'https://www.thenews.com.pk/latest/378743-pm-imran-khan-appreciates-minorities-for-education-health-services']\n"
     ]
    }
   ],
   "source": [
    "def extract_Thenews(filename):\n",
    "    \n",
    "    # +++your code here+++\n",
    "    source =requests.get(filename)\n",
    "    soup = bs4.BeautifulSoup(source.text,\"lxml\")\n",
    "    body=soup.body\n",
    "    \n",
    "   \n",
    "        \n",
    "    data=body.find_all('div',{'class': [re.compile('^writter-list-item latestNews')]})\n",
    "    \n",
    "    \n",
    "    #re.compile('^company')\n",
    "    #s=table.findAll('td')\n",
    "    l1=[]\n",
    "    links = []\n",
    "    title=[]\n",
    "    data2=data[0].find_all('div',{'class': [re.compile('^writter-list-item-story')]})\n",
    "    \n",
    "    \n",
    "    for i in range(len(data2)):\n",
    "        \n",
    "        a=( data2[i].find('a'))\n",
    "        \n",
    "        links.append(a['href'])\n",
    "    print (links)   \n",
    "    \n",
    "    for story in links:\n",
    "        source =requests.get(story)\n",
    "        soup = bs4.BeautifulSoup(source.text,\"lxml\")\n",
    "        body=soup.body\n",
    "        t=( body.find('h1'))\n",
    "        content=body.find('div',{'class': [re.compile('^story-detail')]})\n",
    "        full=content.find_all('p')\n",
    "        l1.append('\\n')\n",
    "        l1.append('   TITLE   ')\n",
    "        l1.append(t.text)\n",
    "        for i in range(len(full)):\n",
    "            l1.append(full[i].text)\n",
    "        l1.append('\\n')\n",
    "        l1.append('-')\n",
    "        l1.append('\\n')\n",
    "\n",
    "           \n",
    "    write('thenews',l1)\n",
    "   \n",
    "     \n",
    "a=extract_Thenews('https://www.thenews.com.pk/latest-stories')\n",
    "\n"
   ]
  },
  {
   "cell_type": "code",
   "execution_count": null,
   "metadata": {},
   "outputs": [],
   "source": []
  }
 ],
 "metadata": {
  "kernelspec": {
   "display_name": "Python 3",
   "language": "python",
   "name": "python3"
  },
  "language_info": {
   "codemirror_mode": {
    "name": "ipython",
    "version": 3
   },
   "file_extension": ".py",
   "mimetype": "text/x-python",
   "name": "python",
   "nbconvert_exporter": "python",
   "pygments_lexer": "ipython3",
   "version": "3.6.5"
  }
 },
 "nbformat": 4,
 "nbformat_minor": 2
}
